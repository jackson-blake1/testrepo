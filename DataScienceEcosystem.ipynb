{
 "cells": [
  {
   "cell_type": "markdown",
   "id": "670c6e9c-bf63-4d57-8f49-16f3f1cbbdc3",
   "metadata": {},
   "source": [
    "# Data Science Tools and Ecosystem"
   ]
  },
  {
   "cell_type": "markdown",
   "id": "16887499-927b-4db3-b5bf-e85414f63f57",
   "metadata": {},
   "source": [
    "## In this notebook, Data Science Tools and Ecosystem are summarized."
   ]
  },
  {
   "cell_type": "markdown",
   "id": "63c8e85a-ee30-4450-9582-3d319d63cf30",
   "metadata": {},
   "source": [
    "**Objectives**\n",
    "* Popular Data Science Languages\n",
    "* Commonly used Data Science Libraries\n",
    "* Examples of arithmetic expressions"
   ]
  },
  {
   "cell_type": "markdown",
   "id": "1173c896-3164-4245-9105-fb669ce95d39",
   "metadata": {},
   "source": [
    "### Some of the popular languages that Data Scientists use are:\n",
    "1. Python\n",
    "2. R\n",
    "3. SQL\n",
    "4. Java"
   ]
  },
  {
   "cell_type": "markdown",
   "id": "9b859636-438e-48ba-8d4b-7e46ed412305",
   "metadata": {},
   "source": [
    "#### Some of the commonly used libraries used by Data Scientists include:\n",
    "1. Matplotlib\n",
    "2. Pandas\n",
    "3. NumPy\n",
    "4. SciPy\n",
    "5. Vegas"
   ]
  },
  {
   "cell_type": "markdown",
   "id": "f4b33b3c-4ebb-4f65-99c6-708a97bcbbcb",
   "metadata": {},
   "source": [
    "|Data Science Tools|\n",
    "|---|\n",
    "|RStudios|\n",
    "|Python|\n",
    "|Kubernetes|\n"
   ]
  },
  {
   "cell_type": "markdown",
   "id": "1a25d5ea-a1ca-4faf-9036-d6cffec0fc95",
   "metadata": {},
   "source": [
    "### Below are a few examples of evaluating arithmetic expressions in Python"
   ]
  },
  {
   "cell_type": "code",
   "execution_count": 7,
   "id": "48efa042-d4a5-498e-87ea-54a9ba2bb714",
   "metadata": {},
   "outputs": [
    {
     "data": {
      "text/plain": [
       "17"
      ]
     },
     "execution_count": 7,
     "metadata": {},
     "output_type": "execute_result"
    }
   ],
   "source": [
    "# This is a simple arithmetic epression to mutiply then add integers\n",
    "(3*4)+5"
   ]
  },
  {
   "cell_type": "code",
   "execution_count": 8,
   "id": "a369a3d9-96bf-4e26-87cc-f6000121c3e6",
   "metadata": {},
   "outputs": [
    {
     "data": {
      "text/plain": [
       "3.3333333333333335"
      ]
     },
     "execution_count": 8,
     "metadata": {},
     "output_type": "execute_result"
    }
   ],
   "source": [
    "# This will convert 200 minutes to hours by diving by 60\n",
    "200/60"
   ]
  },
  {
   "cell_type": "markdown",
   "id": "7837e0ac-d2c3-452a-9979-d15ae7ead681",
   "metadata": {},
   "source": [
    "## Author\n",
    "Jackson Blake"
   ]
  },
  {
   "cell_type": "code",
   "execution_count": null,
   "id": "713f2b1d-27b3-4078-9215-ea7426b4f6e9",
   "metadata": {},
   "outputs": [],
   "source": []
  }
 ],
 "metadata": {
  "kernelspec": {
   "display_name": "Python 3 (ipykernel)",
   "language": "python",
   "name": "python3"
  },
  "language_info": {
   "codemirror_mode": {
    "name": "ipython",
    "version": 3
   },
   "file_extension": ".py",
   "mimetype": "text/x-python",
   "name": "python",
   "nbconvert_exporter": "python",
   "pygments_lexer": "ipython3",
   "version": "3.12.4"
  }
 },
 "nbformat": 4,
 "nbformat_minor": 5
}
